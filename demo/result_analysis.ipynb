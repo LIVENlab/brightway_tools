{
 "cells": [
  {
   "cell_type": "code",
   "execution_count": 2,
   "id": "initial_id",
   "metadata": {
    "collapsed": true,
    "ExecuteTime": {
     "end_time": "2024-01-31T13:17:47.840839865Z",
     "start_time": "2024-01-31T13:17:47.799807093Z"
    }
   },
   "outputs": [],
   "source": [
    "from bw_tools import find_ecoinvent\n",
    "# pick the ecoinvent 391 project and get its ecoinvent database\n",
    "db = find_ecoinvent.set_current_get_db(find_ecoinvent.ECOINVENT_391_CUTOFF)"
   ]
  },
  {
   "cell_type": "code",
   "outputs": [],
   "source": [],
   "metadata": {
    "collapsed": false
   },
   "id": "af0d1822a91b644"
  },
  {
   "cell_type": "code",
   "outputs": [
    {
     "data": {
      "text/plain": "'sawnwood production, hardwood, dried (u=20%), planed' (cubic meter, RoW, None)"
     },
     "execution_count": 43,
     "metadata": {},
     "output_type": "execute_result"
    }
   ],
   "source": [
    "# a random activity\n",
    "random_act = db.random()\n",
    "random_act"
   ],
   "metadata": {
    "collapsed": false,
    "ExecuteTime": {
     "end_time": "2024-01-31T13:36:46.082424672Z",
     "start_time": "2024-01-31T13:36:46.061530871Z"
    }
   },
   "id": "4483e86012af9690",
   "execution_count": 43
  },
  {
   "cell_type": "code",
   "outputs": [
    {
     "data": {
      "text/plain": "('EDIP 2003', 'land filling', 'slag and ashes')"
     },
     "execution_count": 44,
     "metadata": {},
     "output_type": "execute_result"
    }
   ],
   "source": [
    "# a random methods\n",
    "import bw2data\n",
    "\n",
    "random_method = bw2data.methods.random()\n",
    "random_method"
   ],
   "metadata": {
    "collapsed": false,
    "ExecuteTime": {
     "end_time": "2024-01-31T13:36:46.309553100Z",
     "start_time": "2024-01-31T13:36:46.302534061Z"
    }
   },
   "id": "be171dc2ec810ac1",
   "execution_count": 44
  },
  {
   "cell_type": "code",
   "outputs": [],
   "source": [
    "# do lcia\n",
    "from bw2calc import LCA\n",
    "\n",
    "lca = LCA({random_act: 1}, random_method)\n",
    "lca.lci()\n",
    "lca.lcia()"
   ],
   "metadata": {
    "collapsed": false,
    "ExecuteTime": {
     "end_time": "2024-01-31T14:38:07.874872798Z",
     "start_time": "2024-01-31T14:37:59.780021740Z"
    }
   },
   "id": "f5f2ecde1aa7367c",
   "execution_count": 131
  },
  {
   "cell_type": "code",
   "outputs": [
    {
     "data": {
      "text/plain": "0.17755364257928022"
     },
     "execution_count": 132,
     "metadata": {},
     "output_type": "execute_result"
    }
   ],
   "source": [
    "lca.score"
   ],
   "metadata": {
    "collapsed": false,
    "ExecuteTime": {
     "end_time": "2024-01-31T14:38:07.921129530Z",
     "start_time": "2024-01-31T14:38:07.920559287Z"
    }
   },
   "id": "ed03bae7310ea13f",
   "execution_count": 132
  },
  {
   "cell_type": "code",
   "outputs": [
    {
     "data": {
      "text/plain": "('rows (biosphere)', 2420, 'cols (technosphere)', 21238)"
     },
     "execution_count": 88,
     "metadata": {},
     "output_type": "execute_result"
    }
   ],
   "source": [
    "from bw_tools.labeled_df import inventory2labeled_df\n",
    "# turn this into a dataframe with named indices (rows: biosphere activities) and columns: technosphere activities) \n",
    "df = inventory2labeled_df(lca)\n",
    "\"rows (biosphere)\", len(df), \"cols (technosphere)\",len(df.columns)"
   ],
   "metadata": {
    "collapsed": false,
    "ExecuteTime": {
     "end_time": "2024-01-31T14:21:07.736873829Z",
     "start_time": "2024-01-31T14:21:06.552632598Z"
    }
   },
   "id": "4753bb771f2bf777",
   "execution_count": 88
  },
  {
   "cell_type": "code",
   "outputs": [
    {
     "data": {
      "text/plain": "('rows (biosphere)', 1, 'cols (technosphere)', 21238)"
     },
     "execution_count": 89,
     "metadata": {},
     "output_type": "execute_result"
    }
   ],
   "source": [
    "# Filter out all rows where all values are 0\n",
    "bio_filtered_df = df[~(df == 0).all(axis=1)]\n",
    "# df == 0 creates a DataFrame of booleans where each cell is True if the corresponding cell in df is zero.\n",
    "# .all(axis=1) checks each row to see if all values are True (i.e., if all values in the original DataFrame are zero).\n",
    "# ~ is the negation operator, so ~(df == 0).all(axis=1) gives us a boolean series that is True for rows that are not all zeros.\n",
    "# df[...] filters the DataFrame to keep only the rows where the condition is True.\n",
    "\"rows (biosphere)\", len(bio_filtered_df), \"cols (technosphere)\",len(bio_filtered_df.columns)"
   ],
   "metadata": {
    "collapsed": false,
    "ExecuteTime": {
     "end_time": "2024-01-31T14:21:07.881290093Z",
     "start_time": "2024-01-31T14:21:07.733462993Z"
    }
   },
   "id": "4fc0e69f4a6e77c6",
   "execution_count": 89
  },
  {
   "cell_type": "code",
   "outputs": [
    {
     "data": {
      "text/plain": "(1, 2)"
     },
     "execution_count": 128,
     "metadata": {},
     "output_type": "execute_result"
    }
   ],
   "source": [
    "# drop all columns, where the sum of values is below a threshold\n",
    "\n",
    "threshold = 0.00000000002\n",
    "filtered_df = bio_filtered_df.loc[:, bio_filtered_df.sum() > 0.02]\n",
    "# df.sum() calculates the sum of each column.\n",
    "# df.sum() >= threshold creates a boolean series where each value is True if the sum of the corresponding column is greater than or equal to the threshold.\n",
    "# df.loc[:, df.sum() >= threshold] selects only those columns for which the condition is True.\n",
    "\n",
    "# filtered_df\n",
    "len(filtered_df), len(filtered_df.columns)"
   ],
   "metadata": {
    "collapsed": false,
    "ExecuteTime": {
     "end_time": "2024-01-31T14:37:30.600721570Z",
     "start_time": "2024-01-31T14:37:30.579526286Z"
    }
   },
   "id": "7efa03b9f68459cb",
   "execution_count": 128
  },
  {
   "cell_type": "code",
   "outputs": [],
   "source": [
    "# filtered_df.to_csv('filtered_inventory.csv', index=True)"
   ],
   "metadata": {
    "collapsed": false,
    "ExecuteTime": {
     "end_time": "2024-01-31T14:37:32.809282039Z",
     "start_time": "2024-01-31T14:37:32.768048907Z"
    }
   },
   "id": "6c9e662173049025",
   "execution_count": 129
  },
  {
   "cell_type": "code",
   "outputs": [
    {
     "data": {
      "text/plain": "                                                process-specific burdens, slag landfill  \\\nTransformation, to dump site, slag compartment                                 0.767792   \n\n                                                process-specific burdens, slag landfill  \nTransformation, to dump site, slag compartment                                 0.109807  ",
      "text/html": "<div>\n<style scoped>\n    .dataframe tbody tr th:only-of-type {\n        vertical-align: middle;\n    }\n\n    .dataframe tbody tr th {\n        vertical-align: top;\n    }\n\n    .dataframe thead th {\n        text-align: right;\n    }\n</style>\n<table border=\"1\" class=\"dataframe\">\n  <thead>\n    <tr style=\"text-align: right;\">\n      <th></th>\n      <th>process-specific burdens, slag landfill</th>\n      <th>process-specific burdens, slag landfill</th>\n    </tr>\n  </thead>\n  <tbody>\n    <tr>\n      <th>Transformation, to dump site, slag compartment</th>\n      <td>0.767792</td>\n      <td>0.109807</td>\n    </tr>\n  </tbody>\n</table>\n</div>"
     },
     "execution_count": 130,
     "metadata": {},
     "output_type": "execute_result"
    }
   ],
   "source": [
    "filtered_df"
   ],
   "metadata": {
    "collapsed": false,
    "ExecuteTime": {
     "end_time": "2024-01-31T14:37:32.941487982Z",
     "start_time": "2024-01-31T14:37:32.936533836Z"
    }
   },
   "id": "bfa9daa9eaccce8b",
   "execution_count": 130
  },
  {
   "cell_type": "code",
   "outputs": [],
   "source": [],
   "metadata": {
    "collapsed": false
   },
   "id": "82556ab46d405c04"
  }
 ],
 "metadata": {
  "kernelspec": {
   "display_name": "Python 3",
   "language": "python",
   "name": "python3"
  },
  "language_info": {
   "codemirror_mode": {
    "name": "ipython",
    "version": 2
   },
   "file_extension": ".py",
   "mimetype": "text/x-python",
   "name": "python",
   "nbconvert_exporter": "python",
   "pygments_lexer": "ipython2",
   "version": "2.7.6"
  }
 },
 "nbformat": 4,
 "nbformat_minor": 5
}
