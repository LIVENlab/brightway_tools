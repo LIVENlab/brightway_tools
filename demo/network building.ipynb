{
 "cells": [
  {
   "cell_type": "code",
   "execution_count": 8,
   "id": "initial_id",
   "metadata": {
    "collapsed": true,
    "ExecuteTime": {
     "end_time": "2024-02-05T10:16:18.072540156Z",
     "start_time": "2024-02-05T10:16:18.028602667Z"
    }
   },
   "outputs": [],
   "source": [
    "from csv import DictReader\n",
    "\n",
    "import bw2data"
   ]
  },
  {
   "cell_type": "code",
   "outputs": [],
   "source": [
    "project_name = \"super_simple_builder_test\"\n",
    "\n",
    "try:\n",
    "    bw2data.projects.delete_project(project_name, True)\n",
    "except ValueError:\n",
    "    pass\n",
    "    # print(\"project does not exist\")\n",
    "\n",
    "bw2data.projects.set_current(project_name)\n",
    "\n",
    "db = bw2data.Database(\"db\")\n",
    "db.register()"
   ],
   "metadata": {
    "collapsed": false,
    "ExecuteTime": {
     "end_time": "2024-02-05T10:16:18.565358280Z",
     "start_time": "2024-02-05T10:16:18.298209881Z"
    }
   },
   "id": "a9496e1fa5c8096d",
   "execution_count": 9
  },
  {
   "cell_type": "code",
   "outputs": [],
   "source": [
    "activities = list(DictReader(open(\"data/network/super_simple_network.csv\")))\n",
    "exchanges = list(DictReader(open(\"data/network/super_simple_connections.csv\")))"
   ],
   "metadata": {
    "collapsed": false,
    "ExecuteTime": {
     "end_time": "2024-02-05T10:16:19.014264559Z",
     "start_time": "2024-02-05T10:16:19.011239564Z"
    }
   },
   "id": "9b6a11dda5d5ebbe",
   "execution_count": 10
  },
  {
   "cell_type": "code",
   "outputs": [],
   "source": [
    "from bw_tools.network_build import build_network\n",
    "\n",
    "build_network(db, {\n",
    "    \"activities\": activities,\n",
    "    \"exchanges\": exchanges\n",
    "})"
   ],
   "metadata": {
    "collapsed": false,
    "ExecuteTime": {
     "end_time": "2024-02-05T10:16:19.482350963Z",
     "start_time": "2024-02-05T10:16:19.430444372Z"
    }
   },
   "id": "3eeee5a5becebf4a",
   "execution_count": 11
  },
  {
   "cell_type": "code",
   "outputs": [
    {
     "data": {
      "text/plain": "['product' (unit, None, None),\n 'energy' (MW, None, None),\n 'co2' (kg, None, None)]"
     },
     "execution_count": 12,
     "metadata": {},
     "output_type": "execute_result"
    }
   ],
   "source": [
    "list(db)"
   ],
   "metadata": {
    "collapsed": false,
    "ExecuteTime": {
     "end_time": "2024-02-05T10:16:20.245460983Z",
     "start_time": "2024-02-05T10:16:20.233589901Z"
    }
   },
   "id": "3c9af26b74d74ea1",
   "execution_count": 12
  },
  {
   "cell_type": "code",
   "outputs": [
    {
     "data": {
      "text/plain": "[Exchange: 2.0 MW 'energy' (MW, None, None) to 'product' (unit, None, None)>]"
     },
     "execution_count": 13,
     "metadata": {},
     "output_type": "execute_result"
    }
   ],
   "source": [
    "from bw2data.backends import Activity\n",
    "\n",
    "product: Activity = db.get(\"product\")\n",
    "list(product.exchanges())"
   ],
   "metadata": {
    "collapsed": false,
    "ExecuteTime": {
     "end_time": "2024-02-05T10:16:21.294639403Z",
     "start_time": "2024-02-05T10:16:21.285276897Z"
    }
   },
   "id": "2aa72034e7195848",
   "execution_count": 13
  },
  {
   "cell_type": "code",
   "outputs": [
    {
     "data": {
      "text/plain": "[Exchange: 2.0 MW 'energy' (MW, None, None) to 'product' (unit, None, None)>]"
     },
     "execution_count": 14,
     "metadata": {},
     "output_type": "execute_result"
    }
   ],
   "source": [
    "energy: Activity = db.get(\"energy\")\n",
    "list(product.exchanges())"
   ],
   "metadata": {
    "collapsed": false,
    "ExecuteTime": {
     "end_time": "2024-02-05T10:16:34.720981594Z",
     "start_time": "2024-02-05T10:16:34.711929812Z"
    }
   },
   "id": "450a59bedb084f5f",
   "execution_count": 14
  },
  {
   "cell_type": "code",
   "outputs": [],
   "source": [
    "method_id = (\"IPCC\", \"co2-pollution\")\n",
    "simple_method = bw2data.Method(method_id)\n",
    "\n",
    "co2: Activity = db.get(\"co2\")\n",
    "\n",
    "simple_method.write([\n",
    "    (co2.key, {'amount': 1})\n",
    "])"
   ],
   "metadata": {
    "collapsed": false,
    "ExecuteTime": {
     "end_time": "2024-02-05T10:19:37.352480725Z",
     "start_time": "2024-02-05T10:19:37.311666977Z"
    }
   },
   "id": "b278a093e5e84c17",
   "execution_count": 17
  },
  {
   "cell_type": "code",
   "outputs": [
    {
     "data": {
      "text/plain": "2.0"
     },
     "execution_count": 20,
     "metadata": {},
     "output_type": "execute_result"
    }
   ],
   "source": [
    "from bw2calc import LCA\n",
    "\n",
    "lca = LCA({product: 1}, method_id)\n",
    "lca.lci()\n",
    "lca.lcia()\n",
    "lca.score"
   ],
   "metadata": {
    "collapsed": false,
    "ExecuteTime": {
     "end_time": "2024-02-05T10:20:10.534369494Z",
     "start_time": "2024-02-05T10:20:10.513935126Z"
    }
   },
   "id": "937044cef54ecd11",
   "execution_count": 20
  },
  {
   "cell_type": "code",
   "outputs": [],
   "source": [],
   "metadata": {
    "collapsed": false
   },
   "id": "da54f8673fa4edd9"
  }
 ],
 "metadata": {
  "kernelspec": {
   "display_name": "Python 3",
   "language": "python",
   "name": "python3"
  },
  "language_info": {
   "codemirror_mode": {
    "name": "ipython",
    "version": 2
   },
   "file_extension": ".py",
   "mimetype": "text/x-python",
   "name": "python",
   "nbconvert_exporter": "python",
   "pygments_lexer": "ipython2",
   "version": "2.7.6"
  }
 },
 "nbformat": 4,
 "nbformat_minor": 5
}
