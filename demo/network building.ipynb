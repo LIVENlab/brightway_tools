{
 "cells": [
  {
   "cell_type": "code",
   "execution_count": 1,
   "id": "initial_id",
   "metadata": {
    "collapsed": true,
    "ExecuteTime": {
     "end_time": "2024-02-05T10:32:12.436709073Z",
     "start_time": "2024-02-05T10:32:11.524441435Z"
    }
   },
   "outputs": [],
   "source": [
    "from csv import DictReader\n",
    "\n",
    "import bw2data"
   ]
  },
  {
   "cell_type": "code",
   "outputs": [],
   "source": [
    "project_name = \"super_simple_builder_test\"\n",
    "\n",
    "try:\n",
    "    bw2data.projects.delete_project(project_name, True)\n",
    "except ValueError:\n",
    "    pass\n",
    "    # print(\"project does not exist\")\n",
    "\n",
    "bw2data.projects.set_current(project_name)\n",
    "\n",
    "db = bw2data.Database(\"db\")\n",
    "db.register()"
   ],
   "metadata": {
    "collapsed": false,
    "ExecuteTime": {
     "end_time": "2024-02-05T10:32:12.709325639Z",
     "start_time": "2024-02-05T10:32:12.439749623Z"
    }
   },
   "id": "a9496e1fa5c8096d",
   "execution_count": 2
  },
  {
   "cell_type": "code",
   "outputs": [],
   "source": [
    "activities = list(DictReader(open(\"data/network/super_simple_network.csv\")))\n",
    "exchanges = list(DictReader(open(\"data/network/super_simple_connections.csv\")))"
   ],
   "metadata": {
    "collapsed": false,
    "ExecuteTime": {
     "end_time": "2024-02-05T10:32:12.717098628Z",
     "start_time": "2024-02-05T10:32:12.712653791Z"
    }
   },
   "id": "9b6a11dda5d5ebbe",
   "execution_count": 3
  },
  {
   "cell_type": "code",
   "outputs": [],
   "source": [
    "from bw_tools.network_build import build_network\n",
    "\n",
    "build_network(db, {\n",
    "    \"activities\": activities,\n",
    "    \"exchanges\": exchanges\n",
    "})"
   ],
   "metadata": {
    "collapsed": false,
    "ExecuteTime": {
     "end_time": "2024-02-05T10:32:12.893190205Z",
     "start_time": "2024-02-05T10:32:12.715928220Z"
    }
   },
   "id": "3eeee5a5becebf4a",
   "execution_count": 4
  },
  {
   "cell_type": "code",
   "outputs": [
    {
     "data": {
      "text/plain": "['product' (unit, None, None),\n 'energy' (MW, None, None),\n 'co2' (kg, None, None)]"
     },
     "execution_count": 5,
     "metadata": {},
     "output_type": "execute_result"
    }
   ],
   "source": [
    "list(db)"
   ],
   "metadata": {
    "collapsed": false,
    "ExecuteTime": {
     "end_time": "2024-02-05T10:32:12.913782646Z",
     "start_time": "2024-02-05T10:32:12.895342449Z"
    }
   },
   "id": "3c9af26b74d74ea1",
   "execution_count": 5
  },
  {
   "cell_type": "code",
   "outputs": [
    {
     "data": {
      "text/plain": "[Exchange: 2.0 MW 'energy' (MW, None, None) to 'product' (unit, None, None)>]"
     },
     "execution_count": 6,
     "metadata": {},
     "output_type": "execute_result"
    }
   ],
   "source": [
    "from bw2data.backends import Activity\n",
    "\n",
    "product: Activity = db.get(\"product\")\n",
    "list(product.exchanges())"
   ],
   "metadata": {
    "collapsed": false,
    "ExecuteTime": {
     "end_time": "2024-02-05T10:32:12.932261360Z",
     "start_time": "2024-02-05T10:32:12.908016671Z"
    }
   },
   "id": "2aa72034e7195848",
   "execution_count": 6
  },
  {
   "cell_type": "code",
   "outputs": [
    {
     "data": {
      "text/plain": "[Exchange: 2.0 MW 'energy' (MW, None, None) to 'product' (unit, None, None)>]"
     },
     "execution_count": 7,
     "metadata": {},
     "output_type": "execute_result"
    }
   ],
   "source": [
    "energy: Activity = db.get(\"energy\")\n",
    "list(product.exchanges())"
   ],
   "metadata": {
    "collapsed": false,
    "ExecuteTime": {
     "end_time": "2024-02-05T10:32:12.933021919Z",
     "start_time": "2024-02-05T10:32:12.917183343Z"
    }
   },
   "id": "450a59bedb084f5f",
   "execution_count": 7
  },
  {
   "cell_type": "code",
   "outputs": [],
   "source": [
    "method_id = (\"IPCC\", \"co2-pollution\")\n",
    "simple_method = bw2data.Method(method_id)\n",
    "\n",
    "co2: Activity = db.get(\"co2\")\n",
    "\n",
    "simple_method.write([\n",
    "    (co2.key, {'amount': 1})\n",
    "])"
   ],
   "metadata": {
    "collapsed": false,
    "ExecuteTime": {
     "end_time": "2024-02-05T10:32:13.036481633Z",
     "start_time": "2024-02-05T10:32:12.994932444Z"
    }
   },
   "id": "b278a093e5e84c17",
   "execution_count": 8
  },
  {
   "cell_type": "code",
   "outputs": [
    {
     "data": {
      "text/plain": "2.0"
     },
     "execution_count": 9,
     "metadata": {},
     "output_type": "execute_result"
    }
   ],
   "source": [
    "from bw2calc import LCA\n",
    "\n",
    "lca = LCA({product: 1}, method_id)\n",
    "lca.lci()\n",
    "lca.lcia()\n",
    "lca.score"
   ],
   "metadata": {
    "collapsed": false,
    "ExecuteTime": {
     "end_time": "2024-02-05T10:32:13.330407053Z",
     "start_time": "2024-02-05T10:32:13.293699292Z"
    }
   },
   "id": "937044cef54ecd11",
   "execution_count": 9
  },
  {
   "cell_type": "code",
   "outputs": [],
   "source": [
    "from bw_tools import mermaid_diagram\n",
    "markdown_string = mermaid_diagram.create_diagram([co2,product,energy], False)"
   ],
   "metadata": {
    "collapsed": false,
    "ExecuteTime": {
     "end_time": "2024-02-05T10:32:23.376351080Z",
     "start_time": "2024-02-05T10:32:23.368057352Z"
    }
   },
   "id": "da54f8673fa4edd9",
   "execution_count": 12
  },
  {
   "cell_type": "code",
   "outputs": [
    {
     "name": "stdout",
     "output_type": "stream",
     "text": [
      "flowchart LR\n",
      "db_energy(energy) -- 2.0 --> db_product(product)\n",
      "db_co2(co2) -- 1.0 --> db_energy\n",
      "\n",
      "\n",
      "\n",
      "classDef biosphere fill: #80d080\n"
     ]
    }
   ],
   "source": [
    "# copy the result to https://mermaid.live\n",
    "print(markdown_string)"
   ],
   "metadata": {
    "collapsed": false,
    "ExecuteTime": {
     "end_time": "2024-02-05T10:32:42.452665103Z",
     "start_time": "2024-02-05T10:32:42.406643726Z"
    }
   },
   "id": "390b0fceb0809421",
   "execution_count": 13
  },
  {
   "cell_type": "code",
   "outputs": [],
   "source": [
    "try:\n",
    "    bw2data.projects.delete_project(project_name, True)\n",
    "except ValueError:\n",
    "    pass\n",
    "    # print(\"project does not exist\")"
   ],
   "metadata": {
    "collapsed": false
   },
   "id": "12a4b0293dff429c"
  }
 ],
 "metadata": {
  "kernelspec": {
   "display_name": "Python 3",
   "language": "python",
   "name": "python3"
  },
  "language_info": {
   "codemirror_mode": {
    "name": "ipython",
    "version": 2
   },
   "file_extension": ".py",
   "mimetype": "text/x-python",
   "name": "python",
   "nbconvert_exporter": "python",
   "pygments_lexer": "ipython2",
   "version": "2.7.6"
  }
 },
 "nbformat": 4,
 "nbformat_minor": 5
}
